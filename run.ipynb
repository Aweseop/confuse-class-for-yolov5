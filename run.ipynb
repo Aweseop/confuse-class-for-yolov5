{
 "cells": [
  {
   "cell_type": "code",
   "execution_count": 1,
   "metadata": {},
   "outputs": [],
   "source": [
    "from check_coufuse_class import *"
   ]
  },
  {
   "cell_type": "code",
   "execution_count": 2,
   "metadata": {},
   "outputs": [],
   "source": [
    "label_path = '/opt/ml/final/yolov5/runs/val/exp6/labels'\n",
    "save_path = '/opt/ml/final/yolov5/custom_metric'\n",
    "save_file_name = 'output.json'\n",
    "data_path = '/opt/ml/final/datasets/val'\n",
    "json_path = '/opt/ml/final/yolov5/custom_metric/output.json'\n",
    "\n",
    "threshold = 0.05"
   ]
  },
  {
   "cell_type": "code",
   "execution_count": 3,
   "metadata": {},
   "outputs": [
    {
     "name": "stdout",
     "output_type": "stream",
     "text": [
      "json length : 22640\n"
     ]
    },
    {
     "name": "stderr",
     "output_type": "stream",
     "text": [
      "100%|██████████| 22640/22640 [00:24<00:00, 933.67it/s]\n"
     ]
    }
   ],
   "source": [
    "get_confuse_json(label_path, save_path, save_file_name)\n",
    "json_data, img_list = load_json(json_path, data_path)"
   ]
  },
  {
   "cell_type": "code",
   "execution_count": 4,
   "metadata": {},
   "outputs": [],
   "source": [
    "# threshold, variance가 작을 수록 구분을 잘 못함.\n",
    "confidence_variance = get_confidence_variance(json_data, img_list, threshold=threshold)\n",
    "gt_dict = get_gt_dict(confidence_variance)\n",
    "gt_dict = dict_cleansing(gt_dict)"
   ]
  },
  {
   "cell_type": "code",
   "execution_count": 5,
   "metadata": {},
   "outputs": [
    {
     "name": "stdout",
     "output_type": "stream",
     "text": [
      "Confused class for 80\n",
      "Top 1 - Id : 88, Count : 24, Variance : 0.014\n",
      "Top 2 - Id : 43, Count : 10, Variance : 0.018\n",
      "Top 3 - Id : 27, Count : 7, Variance : 0.026\n",
      "\n",
      "\n"
     ]
    }
   ],
   "source": [
    "show_confused_class(gt_dict, '80')"
   ]
  }
 ],
 "metadata": {
  "kernelspec": {
   "display_name": "Python 3.8.12 64-bit ('yolov5': conda)",
   "name": "python3812jvsc74a57bd0e10d7d241533463ebd5975188c9fce9cd7cc884ce08609c3ac70928d32f40fd5"
  },
  "language_info": {
   "codemirror_mode": {
    "name": "ipython",
    "version": 3
   },
   "file_extension": ".py",
   "mimetype": "text/x-python",
   "name": "python",
   "nbconvert_exporter": "python",
   "pygments_lexer": "ipython3",
   "version": "3.8.12"
  },
  "orig_nbformat": 2
 },
 "nbformat": 4,
 "nbformat_minor": 2
}